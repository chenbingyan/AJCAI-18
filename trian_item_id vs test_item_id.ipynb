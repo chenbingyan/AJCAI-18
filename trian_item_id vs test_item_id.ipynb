{
 "cells": [
  {
   "cell_type": "code",
   "execution_count": 5,
   "metadata": {
    "collapsed": true
   },
   "outputs": [],
   "source": [
    "import pandas as pd\n",
    "import numpy as np"
   ]
  },
  {
   "cell_type": "code",
   "execution_count": 2,
   "metadata": {},
   "outputs": [
    {
     "data": {
      "text/html": [
       "<div>\n",
       "<style>\n",
       "    .dataframe thead tr:only-child th {\n",
       "        text-align: right;\n",
       "    }\n",
       "\n",
       "    .dataframe thead th {\n",
       "        text-align: left;\n",
       "    }\n",
       "\n",
       "    .dataframe tbody tr th {\n",
       "        vertical-align: top;\n",
       "    }\n",
       "</style>\n",
       "<table border=\"1\" class=\"dataframe\">\n",
       "  <thead>\n",
       "    <tr style=\"text-align: right;\">\n",
       "      <th></th>\n",
       "      <th>instance_id</th>\n",
       "      <th>item_id</th>\n",
       "      <th>item_category_list</th>\n",
       "      <th>item_property_list</th>\n",
       "      <th>item_brand_id</th>\n",
       "      <th>item_city_id</th>\n",
       "      <th>item_price_level</th>\n",
       "      <th>item_sales_level</th>\n",
       "      <th>item_collected_level</th>\n",
       "      <th>item_pv_level</th>\n",
       "      <th>...</th>\n",
       "      <th>context_page_id</th>\n",
       "      <th>predict_category_property</th>\n",
       "      <th>shop_id</th>\n",
       "      <th>shop_review_num_level</th>\n",
       "      <th>shop_review_positive_rate</th>\n",
       "      <th>shop_star_level</th>\n",
       "      <th>shop_score_service</th>\n",
       "      <th>shop_score_delivery</th>\n",
       "      <th>shop_score_description</th>\n",
       "      <th>is_trade</th>\n",
       "    </tr>\n",
       "  </thead>\n",
       "  <tbody>\n",
       "    <tr>\n",
       "      <th>0</th>\n",
       "      <td>108641074714126964</td>\n",
       "      <td>3412720377098676069</td>\n",
       "      <td>7908382889764677758;5799347067982556520</td>\n",
       "      <td>2072967855524022579;5131280576272319091;263639...</td>\n",
       "      <td>1975590437749032870</td>\n",
       "      <td>3948283326616421003</td>\n",
       "      <td>3</td>\n",
       "      <td>3</td>\n",
       "      <td>4</td>\n",
       "      <td>14</td>\n",
       "      <td>...</td>\n",
       "      <td>4006</td>\n",
       "      <td>5799347067982556520:-1;509660095530134768:-1;5...</td>\n",
       "      <td>6765930309048922341</td>\n",
       "      <td>4</td>\n",
       "      <td>1.0</td>\n",
       "      <td>5002</td>\n",
       "      <td>1.0</td>\n",
       "      <td>1.0</td>\n",
       "      <td>1.0</td>\n",
       "      <td>0</td>\n",
       "    </tr>\n",
       "    <tr>\n",
       "      <th>1</th>\n",
       "      <td>5754713551599725161</td>\n",
       "      <td>3412720377098676069</td>\n",
       "      <td>7908382889764677758;5799347067982556520</td>\n",
       "      <td>2072967855524022579;5131280576272319091;263639...</td>\n",
       "      <td>1975590437749032870</td>\n",
       "      <td>3948283326616421003</td>\n",
       "      <td>3</td>\n",
       "      <td>3</td>\n",
       "      <td>4</td>\n",
       "      <td>14</td>\n",
       "      <td>...</td>\n",
       "      <td>4001</td>\n",
       "      <td>5799347067982556520:9172976955054793469;790838...</td>\n",
       "      <td>6765930309048922341</td>\n",
       "      <td>4</td>\n",
       "      <td>1.0</td>\n",
       "      <td>5002</td>\n",
       "      <td>1.0</td>\n",
       "      <td>1.0</td>\n",
       "      <td>1.0</td>\n",
       "      <td>0</td>\n",
       "    </tr>\n",
       "    <tr>\n",
       "      <th>2</th>\n",
       "      <td>842679481291040981</td>\n",
       "      <td>3412720377098676069</td>\n",
       "      <td>7908382889764677758;5799347067982556520</td>\n",
       "      <td>2072967855524022579;5131280576272319091;263639...</td>\n",
       "      <td>1975590437749032870</td>\n",
       "      <td>3948283326616421003</td>\n",
       "      <td>3</td>\n",
       "      <td>3</td>\n",
       "      <td>4</td>\n",
       "      <td>14</td>\n",
       "      <td>...</td>\n",
       "      <td>4001</td>\n",
       "      <td>5799347067982556520:5131280576272319091;725801...</td>\n",
       "      <td>6765930309048922341</td>\n",
       "      <td>4</td>\n",
       "      <td>1.0</td>\n",
       "      <td>5002</td>\n",
       "      <td>1.0</td>\n",
       "      <td>1.0</td>\n",
       "      <td>1.0</td>\n",
       "      <td>0</td>\n",
       "    </tr>\n",
       "    <tr>\n",
       "      <th>3</th>\n",
       "      <td>937088850059189027</td>\n",
       "      <td>3412720377098676069</td>\n",
       "      <td>7908382889764677758;5799347067982556520</td>\n",
       "      <td>2072967855524022579;5131280576272319091;263639...</td>\n",
       "      <td>1975590437749032870</td>\n",
       "      <td>3948283326616421003</td>\n",
       "      <td>3</td>\n",
       "      <td>3</td>\n",
       "      <td>4</td>\n",
       "      <td>14</td>\n",
       "      <td>...</td>\n",
       "      <td>4016</td>\n",
       "      <td>509660095530134768:-1;5799347067982556520:-1;7...</td>\n",
       "      <td>6765930309048922341</td>\n",
       "      <td>4</td>\n",
       "      <td>1.0</td>\n",
       "      <td>5002</td>\n",
       "      <td>1.0</td>\n",
       "      <td>1.0</td>\n",
       "      <td>1.0</td>\n",
       "      <td>0</td>\n",
       "    </tr>\n",
       "    <tr>\n",
       "      <th>4</th>\n",
       "      <td>7975697065017708072</td>\n",
       "      <td>3412720377098676069</td>\n",
       "      <td>7908382889764677758;5799347067982556520</td>\n",
       "      <td>2072967855524022579;5131280576272319091;263639...</td>\n",
       "      <td>1975590437749032870</td>\n",
       "      <td>3948283326616421003</td>\n",
       "      <td>3</td>\n",
       "      <td>3</td>\n",
       "      <td>4</td>\n",
       "      <td>14</td>\n",
       "      <td>...</td>\n",
       "      <td>4001</td>\n",
       "      <td>5799347067982556520:9172976955054793469;790838...</td>\n",
       "      <td>6765930309048922341</td>\n",
       "      <td>4</td>\n",
       "      <td>1.0</td>\n",
       "      <td>5002</td>\n",
       "      <td>1.0</td>\n",
       "      <td>1.0</td>\n",
       "      <td>1.0</td>\n",
       "      <td>0</td>\n",
       "    </tr>\n",
       "  </tbody>\n",
       "</table>\n",
       "<p>5 rows × 27 columns</p>\n",
       "</div>"
      ],
      "text/plain": [
       "           instance_id              item_id  \\\n",
       "0   108641074714126964  3412720377098676069   \n",
       "1  5754713551599725161  3412720377098676069   \n",
       "2   842679481291040981  3412720377098676069   \n",
       "3   937088850059189027  3412720377098676069   \n",
       "4  7975697065017708072  3412720377098676069   \n",
       "\n",
       "                        item_category_list  \\\n",
       "0  7908382889764677758;5799347067982556520   \n",
       "1  7908382889764677758;5799347067982556520   \n",
       "2  7908382889764677758;5799347067982556520   \n",
       "3  7908382889764677758;5799347067982556520   \n",
       "4  7908382889764677758;5799347067982556520   \n",
       "\n",
       "                                  item_property_list        item_brand_id  \\\n",
       "0  2072967855524022579;5131280576272319091;263639...  1975590437749032870   \n",
       "1  2072967855524022579;5131280576272319091;263639...  1975590437749032870   \n",
       "2  2072967855524022579;5131280576272319091;263639...  1975590437749032870   \n",
       "3  2072967855524022579;5131280576272319091;263639...  1975590437749032870   \n",
       "4  2072967855524022579;5131280576272319091;263639...  1975590437749032870   \n",
       "\n",
       "          item_city_id  item_price_level  item_sales_level  \\\n",
       "0  3948283326616421003                 3                 3   \n",
       "1  3948283326616421003                 3                 3   \n",
       "2  3948283326616421003                 3                 3   \n",
       "3  3948283326616421003                 3                 3   \n",
       "4  3948283326616421003                 3                 3   \n",
       "\n",
       "   item_collected_level  item_pv_level    ...     context_page_id  \\\n",
       "0                     4             14    ...                4006   \n",
       "1                     4             14    ...                4001   \n",
       "2                     4             14    ...                4001   \n",
       "3                     4             14    ...                4016   \n",
       "4                     4             14    ...                4001   \n",
       "\n",
       "                           predict_category_property              shop_id  \\\n",
       "0  5799347067982556520:-1;509660095530134768:-1;5...  6765930309048922341   \n",
       "1  5799347067982556520:9172976955054793469;790838...  6765930309048922341   \n",
       "2  5799347067982556520:5131280576272319091;725801...  6765930309048922341   \n",
       "3  509660095530134768:-1;5799347067982556520:-1;7...  6765930309048922341   \n",
       "4  5799347067982556520:9172976955054793469;790838...  6765930309048922341   \n",
       "\n",
       "   shop_review_num_level  shop_review_positive_rate  shop_star_level  \\\n",
       "0                      4                        1.0             5002   \n",
       "1                      4                        1.0             5002   \n",
       "2                      4                        1.0             5002   \n",
       "3                      4                        1.0             5002   \n",
       "4                      4                        1.0             5002   \n",
       "\n",
       "   shop_score_service  shop_score_delivery shop_score_description  is_trade  \n",
       "0                 1.0                  1.0                    1.0         0  \n",
       "1                 1.0                  1.0                    1.0         0  \n",
       "2                 1.0                  1.0                    1.0         0  \n",
       "3                 1.0                  1.0                    1.0         0  \n",
       "4                 1.0                  1.0                    1.0         0  \n",
       "\n",
       "[5 rows x 27 columns]"
      ]
     },
     "execution_count": 2,
     "metadata": {},
     "output_type": "execute_result"
    }
   ],
   "source": [
    "train = pd.read_csv('./data/round1_ijcai_18_train_20180301.txt', sep=' ')\n",
    "train.head()"
   ]
  },
  {
   "cell_type": "code",
   "execution_count": 3,
   "metadata": {},
   "outputs": [
    {
     "data": {
      "text/html": [
       "<div>\n",
       "<style>\n",
       "    .dataframe thead tr:only-child th {\n",
       "        text-align: right;\n",
       "    }\n",
       "\n",
       "    .dataframe thead th {\n",
       "        text-align: left;\n",
       "    }\n",
       "\n",
       "    .dataframe tbody tr th {\n",
       "        vertical-align: top;\n",
       "    }\n",
       "</style>\n",
       "<table border=\"1\" class=\"dataframe\">\n",
       "  <thead>\n",
       "    <tr style=\"text-align: right;\">\n",
       "      <th></th>\n",
       "      <th>instance_id</th>\n",
       "      <th>item_id</th>\n",
       "      <th>item_category_list</th>\n",
       "      <th>item_property_list</th>\n",
       "      <th>item_brand_id</th>\n",
       "      <th>item_city_id</th>\n",
       "      <th>item_price_level</th>\n",
       "      <th>item_sales_level</th>\n",
       "      <th>item_collected_level</th>\n",
       "      <th>item_pv_level</th>\n",
       "      <th>...</th>\n",
       "      <th>context_timestamp</th>\n",
       "      <th>context_page_id</th>\n",
       "      <th>predict_category_property</th>\n",
       "      <th>shop_id</th>\n",
       "      <th>shop_review_num_level</th>\n",
       "      <th>shop_review_positive_rate</th>\n",
       "      <th>shop_star_level</th>\n",
       "      <th>shop_score_service</th>\n",
       "      <th>shop_score_delivery</th>\n",
       "      <th>shop_score_description</th>\n",
       "    </tr>\n",
       "  </thead>\n",
       "  <tbody>\n",
       "    <tr>\n",
       "      <th>0</th>\n",
       "      <td>2475218615076601065</td>\n",
       "      <td>2275895163219263378</td>\n",
       "      <td>7908382889764677758;8277336076276184272</td>\n",
       "      <td>2636395404473730413;7515802706813700848;302719...</td>\n",
       "      <td>7838285046767229711</td>\n",
       "      <td>7534238860363577544</td>\n",
       "      <td>7</td>\n",
       "      <td>6</td>\n",
       "      <td>8</td>\n",
       "      <td>14</td>\n",
       "      <td>...</td>\n",
       "      <td>1537885700</td>\n",
       "      <td>4005</td>\n",
       "      <td>8277336076276184272:-1;5799347067982556520:-1;...</td>\n",
       "      <td>5275548996133547595</td>\n",
       "      <td>13</td>\n",
       "      <td>0.985244</td>\n",
       "      <td>5011</td>\n",
       "      <td>0.964023</td>\n",
       "      <td>0.966550</td>\n",
       "      <td>0.955378</td>\n",
       "    </tr>\n",
       "    <tr>\n",
       "      <th>1</th>\n",
       "      <td>398316874173557226</td>\n",
       "      <td>7096238490711246967</td>\n",
       "      <td>7908382889764677758;5755694407684602296</td>\n",
       "      <td>5131280576272319091;2636395404473730413;734498...</td>\n",
       "      <td>8126195666233054089</td>\n",
       "      <td>3948283326616421003</td>\n",
       "      <td>6</td>\n",
       "      <td>9</td>\n",
       "      <td>8</td>\n",
       "      <td>16</td>\n",
       "      <td>...</td>\n",
       "      <td>1537862843</td>\n",
       "      <td>4001</td>\n",
       "      <td>5755694407684602296:216555019471416386,2636395...</td>\n",
       "      <td>329470548383752413</td>\n",
       "      <td>14</td>\n",
       "      <td>0.989068</td>\n",
       "      <td>5012</td>\n",
       "      <td>0.963794</td>\n",
       "      <td>0.964225</td>\n",
       "      <td>0.959134</td>\n",
       "    </tr>\n",
       "    <tr>\n",
       "      <th>2</th>\n",
       "      <td>6586402638209028583</td>\n",
       "      <td>7096238490711246967</td>\n",
       "      <td>7908382889764677758;5755694407684602296</td>\n",
       "      <td>5131280576272319091;2636395404473730413;734498...</td>\n",
       "      <td>8126195666233054089</td>\n",
       "      <td>3948283326616421003</td>\n",
       "      <td>6</td>\n",
       "      <td>9</td>\n",
       "      <td>8</td>\n",
       "      <td>16</td>\n",
       "      <td>...</td>\n",
       "      <td>1537858222</td>\n",
       "      <td>4011</td>\n",
       "      <td>5755694407684602296:2636395404473730413;871073...</td>\n",
       "      <td>329470548383752413</td>\n",
       "      <td>14</td>\n",
       "      <td>0.989068</td>\n",
       "      <td>5012</td>\n",
       "      <td>0.963794</td>\n",
       "      <td>0.964225</td>\n",
       "      <td>0.959134</td>\n",
       "    </tr>\n",
       "    <tr>\n",
       "      <th>3</th>\n",
       "      <td>1040996105851528465</td>\n",
       "      <td>7096238490711246967</td>\n",
       "      <td>7908382889764677758;5755694407684602296</td>\n",
       "      <td>5131280576272319091;2636395404473730413;734498...</td>\n",
       "      <td>8126195666233054089</td>\n",
       "      <td>3948283326616421003</td>\n",
       "      <td>6</td>\n",
       "      <td>9</td>\n",
       "      <td>8</td>\n",
       "      <td>16</td>\n",
       "      <td>...</td>\n",
       "      <td>1537860915</td>\n",
       "      <td>4001</td>\n",
       "      <td>8710739180200009128:-1;5755694407684602296:263...</td>\n",
       "      <td>329470548383752413</td>\n",
       "      <td>14</td>\n",
       "      <td>0.989068</td>\n",
       "      <td>5012</td>\n",
       "      <td>0.963794</td>\n",
       "      <td>0.964225</td>\n",
       "      <td>0.959134</td>\n",
       "    </tr>\n",
       "    <tr>\n",
       "      <th>4</th>\n",
       "      <td>6316278569655873454</td>\n",
       "      <td>7096238490711246967</td>\n",
       "      <td>7908382889764677758;5755694407684602296</td>\n",
       "      <td>5131280576272319091;2636395404473730413;734498...</td>\n",
       "      <td>8126195666233054089</td>\n",
       "      <td>3948283326616421003</td>\n",
       "      <td>6</td>\n",
       "      <td>9</td>\n",
       "      <td>8</td>\n",
       "      <td>16</td>\n",
       "      <td>...</td>\n",
       "      <td>1537859074</td>\n",
       "      <td>4001</td>\n",
       "      <td>5755694407684602296:5131280576272319091;871073...</td>\n",
       "      <td>329470548383752413</td>\n",
       "      <td>14</td>\n",
       "      <td>0.989068</td>\n",
       "      <td>5012</td>\n",
       "      <td>0.963794</td>\n",
       "      <td>0.964225</td>\n",
       "      <td>0.959134</td>\n",
       "    </tr>\n",
       "  </tbody>\n",
       "</table>\n",
       "<p>5 rows × 26 columns</p>\n",
       "</div>"
      ],
      "text/plain": [
       "           instance_id              item_id  \\\n",
       "0  2475218615076601065  2275895163219263378   \n",
       "1   398316874173557226  7096238490711246967   \n",
       "2  6586402638209028583  7096238490711246967   \n",
       "3  1040996105851528465  7096238490711246967   \n",
       "4  6316278569655873454  7096238490711246967   \n",
       "\n",
       "                        item_category_list  \\\n",
       "0  7908382889764677758;8277336076276184272   \n",
       "1  7908382889764677758;5755694407684602296   \n",
       "2  7908382889764677758;5755694407684602296   \n",
       "3  7908382889764677758;5755694407684602296   \n",
       "4  7908382889764677758;5755694407684602296   \n",
       "\n",
       "                                  item_property_list        item_brand_id  \\\n",
       "0  2636395404473730413;7515802706813700848;302719...  7838285046767229711   \n",
       "1  5131280576272319091;2636395404473730413;734498...  8126195666233054089   \n",
       "2  5131280576272319091;2636395404473730413;734498...  8126195666233054089   \n",
       "3  5131280576272319091;2636395404473730413;734498...  8126195666233054089   \n",
       "4  5131280576272319091;2636395404473730413;734498...  8126195666233054089   \n",
       "\n",
       "          item_city_id  item_price_level  item_sales_level  \\\n",
       "0  7534238860363577544                 7                 6   \n",
       "1  3948283326616421003                 6                 9   \n",
       "2  3948283326616421003                 6                 9   \n",
       "3  3948283326616421003                 6                 9   \n",
       "4  3948283326616421003                 6                 9   \n",
       "\n",
       "   item_collected_level  item_pv_level           ...            \\\n",
       "0                     8             14           ...             \n",
       "1                     8             16           ...             \n",
       "2                     8             16           ...             \n",
       "3                     8             16           ...             \n",
       "4                     8             16           ...             \n",
       "\n",
       "   context_timestamp  context_page_id  \\\n",
       "0         1537885700             4005   \n",
       "1         1537862843             4001   \n",
       "2         1537858222             4011   \n",
       "3         1537860915             4001   \n",
       "4         1537859074             4001   \n",
       "\n",
       "                           predict_category_property              shop_id  \\\n",
       "0  8277336076276184272:-1;5799347067982556520:-1;...  5275548996133547595   \n",
       "1  5755694407684602296:216555019471416386,2636395...   329470548383752413   \n",
       "2  5755694407684602296:2636395404473730413;871073...   329470548383752413   \n",
       "3  8710739180200009128:-1;5755694407684602296:263...   329470548383752413   \n",
       "4  5755694407684602296:5131280576272319091;871073...   329470548383752413   \n",
       "\n",
       "   shop_review_num_level  shop_review_positive_rate  shop_star_level  \\\n",
       "0                     13                   0.985244             5011   \n",
       "1                     14                   0.989068             5012   \n",
       "2                     14                   0.989068             5012   \n",
       "3                     14                   0.989068             5012   \n",
       "4                     14                   0.989068             5012   \n",
       "\n",
       "   shop_score_service shop_score_delivery  shop_score_description  \n",
       "0            0.964023            0.966550                0.955378  \n",
       "1            0.963794            0.964225                0.959134  \n",
       "2            0.963794            0.964225                0.959134  \n",
       "3            0.963794            0.964225                0.959134  \n",
       "4            0.963794            0.964225                0.959134  \n",
       "\n",
       "[5 rows x 26 columns]"
      ]
     },
     "execution_count": 3,
     "metadata": {},
     "output_type": "execute_result"
    }
   ],
   "source": [
    "test = pd.read_csv('./data/round1_ijcai_18_test_a_20180301.txt', sep=' ')\n",
    "test.head()"
   ]
  },
  {
   "cell_type": "code",
   "execution_count": 6,
   "metadata": {
    "collapsed": true
   },
   "outputs": [],
   "source": [
    "train_item_id = np.array(train['item_id'])\n",
    "test_item_id = np.array(test['item_id'])"
   ]
  },
  {
   "cell_type": "code",
   "execution_count": 11,
   "metadata": {
    "collapsed": true,
    "scrolled": true
   },
   "outputs": [],
   "source": [
    "count = 0\n",
    "new_item = set()\n",
    "for item_id in test_item_id:\n",
    "    if item_id not in train_item_id:\n",
    "        count += 1\n",
    "        new_item.add(item_id)"
   ]
  },
  {
   "cell_type": "code",
   "execution_count": 12,
   "metadata": {},
   "outputs": [
    {
     "name": "stdout",
     "output_type": "stream",
     "text": [
      "207\n"
     ]
    }
   ],
   "source": [
    "print(count)"
   ]
  },
  {
   "cell_type": "code",
   "execution_count": 13,
   "metadata": {},
   "outputs": [
    {
     "data": {
      "text/plain": [
       "0.011267758967938598"
      ]
     },
     "execution_count": 13,
     "metadata": {},
     "output_type": "execute_result"
    }
   ],
   "source": [
    "count / len(test_item_id)"
   ]
  },
  {
   "cell_type": "code",
   "execution_count": 14,
   "metadata": {},
   "outputs": [
    {
     "data": {
      "text/plain": [
       "161"
      ]
     },
     "execution_count": 14,
     "metadata": {},
     "output_type": "execute_result"
    }
   ],
   "source": [
    "len(new_item)"
   ]
  },
  {
   "cell_type": "code",
   "execution_count": 15,
   "metadata": {
    "collapsed": true
   },
   "outputs": [],
   "source": [
    "train_user = np.array(train['user_id'])\n",
    "test_user = np.array(test['user_id'])"
   ]
  },
  {
   "cell_type": "code",
   "execution_count": 17,
   "metadata": {
    "collapsed": true
   },
   "outputs": [],
   "source": [
    "count = 0\n",
    "user_set = set()\n",
    "for user in test_user:\n",
    "    if user not in train_user:\n",
    "        count += 1\n",
    "        user_set.add(user)"
   ]
  },
  {
   "cell_type": "code",
   "execution_count": 18,
   "metadata": {},
   "outputs": [
    {
     "data": {
      "text/plain": [
       "18371"
      ]
     },
     "execution_count": 18,
     "metadata": {},
     "output_type": "execute_result"
    }
   ],
   "source": [
    "count"
   ]
  },
  {
   "cell_type": "code",
   "execution_count": 21,
   "metadata": {},
   "outputs": [],
   "source": [
    "train_context = np.array(train['context_id'])\n",
    "test_context = np.array(test['context_id'])"
   ]
  },
  {
   "cell_type": "code",
   "execution_count": 22,
   "metadata": {
    "collapsed": true
   },
   "outputs": [],
   "source": [
    "count = 0\n",
    "context_set = set()\n",
    "for context in test_context:\n",
    "    if context not in train_context:\n",
    "        count += 1\n",
    "        context_set.add(context)"
   ]
  },
  {
   "cell_type": "code",
   "execution_count": 23,
   "metadata": {},
   "outputs": [
    {
     "data": {
      "text/plain": [
       "18371"
      ]
     },
     "execution_count": 23,
     "metadata": {},
     "output_type": "execute_result"
    }
   ],
   "source": [
    "count"
   ]
  },
  {
   "cell_type": "code",
   "execution_count": 24,
   "metadata": {
    "collapsed": true
   },
   "outputs": [],
   "source": [
    "train_shop = np.array(train['shop_id'])\n",
    "test_shop = np.array(test['shop_id'])"
   ]
  },
  {
   "cell_type": "code",
   "execution_count": 25,
   "metadata": {},
   "outputs": [],
   "source": [
    "count = 0\n",
    "shop_set = set()\n",
    "for shop in test_shop:\n",
    "    if shop not in train_shop:\n",
    "        count += 1\n",
    "        shop_set.add(shop)"
   ]
  },
  {
   "cell_type": "code",
   "execution_count": 26,
   "metadata": {},
   "outputs": [
    {
     "data": {
      "text/plain": [
       "49"
      ]
     },
     "execution_count": 26,
     "metadata": {},
     "output_type": "execute_result"
    }
   ],
   "source": [
    "count"
   ]
  },
  {
   "cell_type": "code",
   "execution_count": 27,
   "metadata": {},
   "outputs": [
    {
     "data": {
      "text/plain": [
       "3959"
      ]
     },
     "execution_count": 27,
     "metadata": {},
     "output_type": "execute_result"
    }
   ],
   "source": [
    "len(set(train_shop))"
   ]
  },
  {
   "cell_type": "code",
   "execution_count": null,
   "metadata": {
    "collapsed": true
   },
   "outputs": [],
   "source": []
  }
 ],
 "metadata": {
  "kernelspec": {
   "display_name": "Python 3",
   "language": "python",
   "name": "python3"
  },
  "language_info": {
   "codemirror_mode": {
    "name": "ipython",
    "version": 3
   },
   "file_extension": ".py",
   "mimetype": "text/x-python",
   "name": "python",
   "nbconvert_exporter": "python",
   "pygments_lexer": "ipython3",
   "version": "3.6.3"
  }
 },
 "nbformat": 4,
 "nbformat_minor": 2
}
