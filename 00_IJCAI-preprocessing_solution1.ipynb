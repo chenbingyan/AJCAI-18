{
 "cells": [
  {
   "cell_type": "code",
   "execution_count": 1,
   "metadata": {
    "collapsed": true
   },
   "outputs": [],
   "source": [
    "import pandas as pd\n",
    "import numpy as np\n",
    "import time\n",
    "from collections import Counter\n",
    "import datetime"
   ]
  },
  {
   "cell_type": "code",
   "execution_count": 2,
   "metadata": {
    "collapsed": true
   },
   "outputs": [],
   "source": [
    "def read_data(train_data_path, test_data_path):\n",
    "    train = pd.read_csv(train_data_path, sep=' ', encoding='utf-8')\n",
    "    test = pd.read_csv(test_data_path, sep=' ', encoding='utf-8')\n",
    "    train.drop_duplicates(inplace=True)\n",
    "    test['is_trade'] = np.nan\n",
    "    print('shape of train data: ', train.shape)\n",
    "    print('shape of test data: ', test.shape)\n",
    "    # 将训练集和测试集拼接在一起，方便特征处理\n",
    "    data = pd.concat([train, test], axis=0)\n",
    "    print('shape of whole data: ', data.shape)\n",
    "    return train, test, data"
   ]
  },
  {
   "cell_type": "code",
   "execution_count": 3,
   "metadata": {},
   "outputs": [
    {
     "name": "stdout",
     "output_type": "stream",
     "text": [
      "shape of train data:  (478111, 27)\n",
      "shape of test data:  (18371, 27)\n",
      "shape of whole data:  (496482, 27)\n"
     ]
    }
   ],
   "source": [
    "train, test, data = read_data('./data/round1_ijcai_18_train_20180301.txt', './data/round1_ijcai_18_test_a_20180301.txt')"
   ]
  },
  {
   "cell_type": "code",
   "execution_count": 4,
   "metadata": {
    "collapsed": true
   },
   "outputs": [],
   "source": [
    "# 处理时间数据\n",
    "def timestamp_datetime(value):\n",
    "    format = '%Y-%m-%d %H:%M:%S'\n",
    "    dt = time.localtime(value)\n",
    "    dt = time.strftime(format, dt)\n",
    "    dt = datetime.datetime.strptime(dt, format)\n",
    "    return dt"
   ]
  },
  {
   "cell_type": "code",
   "execution_count": 5,
   "metadata": {
    "collapsed": true
   },
   "outputs": [],
   "source": [
    "data['time'] = data.context_timestamp.apply(timestamp_datetime)\n",
    "data['day'] = data.time.apply(lambda x: int(x.day))\n",
    "data['hour'] = data.time.apply(lambda x: int(x.hour))"
   ]
  },
  {
   "cell_type": "code",
   "execution_count": 6,
   "metadata": {
    "collapsed": true
   },
   "outputs": [],
   "source": [
    "# 计算历史CTR\n",
    "def history_ctr(train_data):\n",
    "    # item_trade_data = train_data[['item_id', 'is_trade']]\n",
    "    item_id_df = pd.DataFrame(train_data.item_id.unique()).reset_index(drop=True).rename(columns={0: 'item_id'})\n",
    "    item_id_list = train_data.item_id.unique()\n",
    "    history_ctr_list = []\n",
    "    for item in item_id_list:\n",
    "        display_data = train_data[train_data.item_id == item]\n",
    "        # 为了避免某些商品展示次数很低，但却有点击，导致历史CTR过高而不真实，故而需要设定阈值干预处理\n",
    "        history_ctr_value = np.sum(display_data['is_trade']) / len(display_data)\n",
    "        if len(display_data) < 100 and history_ctr_value > 0.01:\n",
    "            history_ctr_value = 0.01\n",
    "        history_ctr_list.append(history_ctr_value)\n",
    "    item_id_df['history_ctr'] = history_ctr_list\n",
    "    return item_id_df"
   ]
  },
  {
   "cell_type": "code",
   "execution_count": 7,
   "metadata": {
    "collapsed": true
   },
   "outputs": [],
   "source": [
    "history_ctr_df = history_ctr(train)"
   ]
  },
  {
   "cell_type": "code",
   "execution_count": 8,
   "metadata": {},
   "outputs": [
    {
     "data": {
      "text/html": [
       "<div>\n",
       "<style>\n",
       "    .dataframe thead tr:only-child th {\n",
       "        text-align: right;\n",
       "    }\n",
       "\n",
       "    .dataframe thead th {\n",
       "        text-align: left;\n",
       "    }\n",
       "\n",
       "    .dataframe tbody tr th {\n",
       "        vertical-align: top;\n",
       "    }\n",
       "</style>\n",
       "<table border=\"1\" class=\"dataframe\">\n",
       "  <thead>\n",
       "    <tr style=\"text-align: right;\">\n",
       "      <th></th>\n",
       "      <th>instance_id</th>\n",
       "      <th>item_id</th>\n",
       "      <th>item_category_list</th>\n",
       "      <th>item_property_list</th>\n",
       "      <th>item_brand_id</th>\n",
       "      <th>item_city_id</th>\n",
       "      <th>item_price_level</th>\n",
       "      <th>item_sales_level</th>\n",
       "      <th>item_collected_level</th>\n",
       "      <th>item_pv_level</th>\n",
       "      <th>...</th>\n",
       "      <th>shop_review_positive_rate</th>\n",
       "      <th>shop_star_level</th>\n",
       "      <th>shop_score_service</th>\n",
       "      <th>shop_score_delivery</th>\n",
       "      <th>shop_score_description</th>\n",
       "      <th>is_trade</th>\n",
       "      <th>time</th>\n",
       "      <th>day</th>\n",
       "      <th>hour</th>\n",
       "      <th>history_ctr</th>\n",
       "    </tr>\n",
       "  </thead>\n",
       "  <tbody>\n",
       "    <tr>\n",
       "      <th>0</th>\n",
       "      <td>108641074714126964</td>\n",
       "      <td>3412720377098676069</td>\n",
       "      <td>7908382889764677758;5799347067982556520</td>\n",
       "      <td>2072967855524022579;5131280576272319091;263639...</td>\n",
       "      <td>1975590437749032870</td>\n",
       "      <td>3948283326616421003</td>\n",
       "      <td>3</td>\n",
       "      <td>3</td>\n",
       "      <td>4</td>\n",
       "      <td>14</td>\n",
       "      <td>...</td>\n",
       "      <td>1.0</td>\n",
       "      <td>5002</td>\n",
       "      <td>1.0</td>\n",
       "      <td>1.0</td>\n",
       "      <td>1.0</td>\n",
       "      <td>0.0</td>\n",
       "      <td>2018-09-18 10:09:04</td>\n",
       "      <td>18</td>\n",
       "      <td>10</td>\n",
       "      <td>0.0</td>\n",
       "    </tr>\n",
       "    <tr>\n",
       "      <th>1</th>\n",
       "      <td>5754713551599725161</td>\n",
       "      <td>3412720377098676069</td>\n",
       "      <td>7908382889764677758;5799347067982556520</td>\n",
       "      <td>2072967855524022579;5131280576272319091;263639...</td>\n",
       "      <td>1975590437749032870</td>\n",
       "      <td>3948283326616421003</td>\n",
       "      <td>3</td>\n",
       "      <td>3</td>\n",
       "      <td>4</td>\n",
       "      <td>14</td>\n",
       "      <td>...</td>\n",
       "      <td>1.0</td>\n",
       "      <td>5002</td>\n",
       "      <td>1.0</td>\n",
       "      <td>1.0</td>\n",
       "      <td>1.0</td>\n",
       "      <td>0.0</td>\n",
       "      <td>2018-09-18 12:00:32</td>\n",
       "      <td>18</td>\n",
       "      <td>12</td>\n",
       "      <td>0.0</td>\n",
       "    </tr>\n",
       "    <tr>\n",
       "      <th>2</th>\n",
       "      <td>842679481291040981</td>\n",
       "      <td>3412720377098676069</td>\n",
       "      <td>7908382889764677758;5799347067982556520</td>\n",
       "      <td>2072967855524022579;5131280576272319091;263639...</td>\n",
       "      <td>1975590437749032870</td>\n",
       "      <td>3948283326616421003</td>\n",
       "      <td>3</td>\n",
       "      <td>3</td>\n",
       "      <td>4</td>\n",
       "      <td>14</td>\n",
       "      <td>...</td>\n",
       "      <td>1.0</td>\n",
       "      <td>5002</td>\n",
       "      <td>1.0</td>\n",
       "      <td>1.0</td>\n",
       "      <td>1.0</td>\n",
       "      <td>0.0</td>\n",
       "      <td>2018-09-18 03:04:12</td>\n",
       "      <td>18</td>\n",
       "      <td>3</td>\n",
       "      <td>0.0</td>\n",
       "    </tr>\n",
       "    <tr>\n",
       "      <th>3</th>\n",
       "      <td>937088850059189027</td>\n",
       "      <td>3412720377098676069</td>\n",
       "      <td>7908382889764677758;5799347067982556520</td>\n",
       "      <td>2072967855524022579;5131280576272319091;263639...</td>\n",
       "      <td>1975590437749032870</td>\n",
       "      <td>3948283326616421003</td>\n",
       "      <td>3</td>\n",
       "      <td>3</td>\n",
       "      <td>4</td>\n",
       "      <td>14</td>\n",
       "      <td>...</td>\n",
       "      <td>1.0</td>\n",
       "      <td>5002</td>\n",
       "      <td>1.0</td>\n",
       "      <td>1.0</td>\n",
       "      <td>1.0</td>\n",
       "      <td>0.0</td>\n",
       "      <td>2018-09-18 06:17:50</td>\n",
       "      <td>18</td>\n",
       "      <td>6</td>\n",
       "      <td>0.0</td>\n",
       "    </tr>\n",
       "    <tr>\n",
       "      <th>4</th>\n",
       "      <td>7975697065017708072</td>\n",
       "      <td>3412720377098676069</td>\n",
       "      <td>7908382889764677758;5799347067982556520</td>\n",
       "      <td>2072967855524022579;5131280576272319091;263639...</td>\n",
       "      <td>1975590437749032870</td>\n",
       "      <td>3948283326616421003</td>\n",
       "      <td>3</td>\n",
       "      <td>3</td>\n",
       "      <td>4</td>\n",
       "      <td>14</td>\n",
       "      <td>...</td>\n",
       "      <td>1.0</td>\n",
       "      <td>5002</td>\n",
       "      <td>1.0</td>\n",
       "      <td>1.0</td>\n",
       "      <td>1.0</td>\n",
       "      <td>0.0</td>\n",
       "      <td>2018-09-18 19:48:40</td>\n",
       "      <td>18</td>\n",
       "      <td>19</td>\n",
       "      <td>0.0</td>\n",
       "    </tr>\n",
       "  </tbody>\n",
       "</table>\n",
       "<p>5 rows × 31 columns</p>\n",
       "</div>"
      ],
      "text/plain": [
       "           instance_id              item_id  \\\n",
       "0   108641074714126964  3412720377098676069   \n",
       "1  5754713551599725161  3412720377098676069   \n",
       "2   842679481291040981  3412720377098676069   \n",
       "3   937088850059189027  3412720377098676069   \n",
       "4  7975697065017708072  3412720377098676069   \n",
       "\n",
       "                        item_category_list  \\\n",
       "0  7908382889764677758;5799347067982556520   \n",
       "1  7908382889764677758;5799347067982556520   \n",
       "2  7908382889764677758;5799347067982556520   \n",
       "3  7908382889764677758;5799347067982556520   \n",
       "4  7908382889764677758;5799347067982556520   \n",
       "\n",
       "                                  item_property_list        item_brand_id  \\\n",
       "0  2072967855524022579;5131280576272319091;263639...  1975590437749032870   \n",
       "1  2072967855524022579;5131280576272319091;263639...  1975590437749032870   \n",
       "2  2072967855524022579;5131280576272319091;263639...  1975590437749032870   \n",
       "3  2072967855524022579;5131280576272319091;263639...  1975590437749032870   \n",
       "4  2072967855524022579;5131280576272319091;263639...  1975590437749032870   \n",
       "\n",
       "          item_city_id  item_price_level  item_sales_level  \\\n",
       "0  3948283326616421003                 3                 3   \n",
       "1  3948283326616421003                 3                 3   \n",
       "2  3948283326616421003                 3                 3   \n",
       "3  3948283326616421003                 3                 3   \n",
       "4  3948283326616421003                 3                 3   \n",
       "\n",
       "   item_collected_level  item_pv_level     ...       \\\n",
       "0                     4             14     ...        \n",
       "1                     4             14     ...        \n",
       "2                     4             14     ...        \n",
       "3                     4             14     ...        \n",
       "4                     4             14     ...        \n",
       "\n",
       "   shop_review_positive_rate  shop_star_level  shop_score_service  \\\n",
       "0                        1.0             5002                 1.0   \n",
       "1                        1.0             5002                 1.0   \n",
       "2                        1.0             5002                 1.0   \n",
       "3                        1.0             5002                 1.0   \n",
       "4                        1.0             5002                 1.0   \n",
       "\n",
       "   shop_score_delivery  shop_score_description  is_trade                time  \\\n",
       "0                  1.0                     1.0       0.0 2018-09-18 10:09:04   \n",
       "1                  1.0                     1.0       0.0 2018-09-18 12:00:32   \n",
       "2                  1.0                     1.0       0.0 2018-09-18 03:04:12   \n",
       "3                  1.0                     1.0       0.0 2018-09-18 06:17:50   \n",
       "4                  1.0                     1.0       0.0 2018-09-18 19:48:40   \n",
       "\n",
       "   day hour  history_ctr  \n",
       "0   18   10          0.0  \n",
       "1   18   12          0.0  \n",
       "2   18    3          0.0  \n",
       "3   18    6          0.0  \n",
       "4   18   19          0.0  \n",
       "\n",
       "[5 rows x 31 columns]"
      ]
     },
     "execution_count": 8,
     "metadata": {},
     "output_type": "execute_result"
    }
   ],
   "source": [
    "data = pd.merge(data, history_ctr_df, on='item_id', how='left')\n",
    "# 对缺失值补0\n",
    "data['history_ctr'].fillna(0., inplace=True)\n",
    "data.head()"
   ]
  },
  {
   "cell_type": "code",
   "execution_count": 9,
   "metadata": {
    "collapsed": true
   },
   "outputs": [],
   "source": [
    "# 对于item_category_list，由于第一个类别都一样，第三个类别只有少量几个样本有，所以只取第二个类别\n",
    "data['item_category_list'] = data['item_category_list'].apply(lambda x: x.strip().split(';')[1])"
   ]
  },
  {
   "cell_type": "code",
   "execution_count": 10,
   "metadata": {},
   "outputs": [
    {
     "data": {
      "text/plain": [
       "11181"
      ]
     },
     "execution_count": 10,
     "metadata": {},
     "output_type": "execute_result"
    }
   ],
   "source": [
    "# item_property_list取值太多，舍弃不用\n",
    "item_property = []\n",
    "\n",
    "item_property_list = data['item_property_list']\n",
    "for p in item_property_list:\n",
    "    p_list = p.strip().split(';')\n",
    "    p_list.sort()\n",
    "    if len(p_list) < 6:\n",
    "        print(p)\n",
    "    new_p_list = []\n",
    "    for i in range(5):\n",
    "        try:\n",
    "            new_p_list.append(p_list[i])\n",
    "        except:\n",
    "            new_p_list.append(np.nan)\n",
    "    item_property.append(new_p_list)\n",
    "# for i in range(len(data)):\n",
    "#     item = data.loc([i, 'item_id'])\n",
    "#     print(item)\n",
    "len(data['item_property_list'].unique())"
   ]
  },
  {
   "cell_type": "code",
   "execution_count": 11,
   "metadata": {
    "collapsed": true
   },
   "outputs": [],
   "source": [
    "item_property_df = pd.DataFrame(item_property).rename(columns={0:'item_property_0', 1: 'item_property_1', \n",
    "                                                             2: 'item_property_2', 3: 'item_property_3',\n",
    "                                                             4: 'item_property_4'})"
   ]
  },
  {
   "cell_type": "code",
   "execution_count": 12,
   "metadata": {},
   "outputs": [
    {
     "data": {
      "text/html": [
       "<div>\n",
       "<style>\n",
       "    .dataframe thead tr:only-child th {\n",
       "        text-align: right;\n",
       "    }\n",
       "\n",
       "    .dataframe thead th {\n",
       "        text-align: left;\n",
       "    }\n",
       "\n",
       "    .dataframe tbody tr th {\n",
       "        vertical-align: top;\n",
       "    }\n",
       "</style>\n",
       "<table border=\"1\" class=\"dataframe\">\n",
       "  <thead>\n",
       "    <tr style=\"text-align: right;\">\n",
       "      <th></th>\n",
       "      <th>item_property_0</th>\n",
       "      <th>item_property_1</th>\n",
       "      <th>item_property_2</th>\n",
       "      <th>item_property_3</th>\n",
       "      <th>item_property_4</th>\n",
       "    </tr>\n",
       "  </thead>\n",
       "  <tbody>\n",
       "    <tr>\n",
       "      <th>0</th>\n",
       "      <td>1782439090818545916</td>\n",
       "      <td>2072967855524022579</td>\n",
       "      <td>2636395404473730413</td>\n",
       "      <td>3408398779125901630</td>\n",
       "      <td>3657871859501171040</td>\n",
       "    </tr>\n",
       "    <tr>\n",
       "      <th>1</th>\n",
       "      <td>1782439090818545916</td>\n",
       "      <td>2072967855524022579</td>\n",
       "      <td>2636395404473730413</td>\n",
       "      <td>3408398779125901630</td>\n",
       "      <td>3657871859501171040</td>\n",
       "    </tr>\n",
       "    <tr>\n",
       "      <th>2</th>\n",
       "      <td>1782439090818545916</td>\n",
       "      <td>2072967855524022579</td>\n",
       "      <td>2636395404473730413</td>\n",
       "      <td>3408398779125901630</td>\n",
       "      <td>3657871859501171040</td>\n",
       "    </tr>\n",
       "    <tr>\n",
       "      <th>3</th>\n",
       "      <td>1782439090818545916</td>\n",
       "      <td>2072967855524022579</td>\n",
       "      <td>2636395404473730413</td>\n",
       "      <td>3408398779125901630</td>\n",
       "      <td>3657871859501171040</td>\n",
       "    </tr>\n",
       "    <tr>\n",
       "      <th>4</th>\n",
       "      <td>1782439090818545916</td>\n",
       "      <td>2072967855524022579</td>\n",
       "      <td>2636395404473730413</td>\n",
       "      <td>3408398779125901630</td>\n",
       "      <td>3657871859501171040</td>\n",
       "    </tr>\n",
       "  </tbody>\n",
       "</table>\n",
       "</div>"
      ],
      "text/plain": [
       "       item_property_0      item_property_1      item_property_2  \\\n",
       "0  1782439090818545916  2072967855524022579  2636395404473730413   \n",
       "1  1782439090818545916  2072967855524022579  2636395404473730413   \n",
       "2  1782439090818545916  2072967855524022579  2636395404473730413   \n",
       "3  1782439090818545916  2072967855524022579  2636395404473730413   \n",
       "4  1782439090818545916  2072967855524022579  2636395404473730413   \n",
       "\n",
       "       item_property_3      item_property_4  \n",
       "0  3408398779125901630  3657871859501171040  \n",
       "1  3408398779125901630  3657871859501171040  \n",
       "2  3408398779125901630  3657871859501171040  \n",
       "3  3408398779125901630  3657871859501171040  \n",
       "4  3408398779125901630  3657871859501171040  "
      ]
     },
     "execution_count": 12,
     "metadata": {},
     "output_type": "execute_result"
    }
   ],
   "source": [
    "item_property_df.head()"
   ]
  },
  {
   "cell_type": "code",
   "execution_count": 13,
   "metadata": {},
   "outputs": [
    {
     "name": "stdout",
     "output_type": "stream",
     "text": [
      "2263\n",
      "2405\n",
      "2597\n",
      "2524\n",
      "2584\n"
     ]
    }
   ],
   "source": [
    "print(len(item_property_df['item_property_0'].unique()))\n",
    "print(len(item_property_df['item_property_1'].unique()))\n",
    "print(len(item_property_df['item_property_2'].unique()))\n",
    "print(len(item_property_df['item_property_3'].unique()))\n",
    "print(len(item_property_df['item_property_4'].unique()))"
   ]
  },
  {
   "cell_type": "code",
   "execution_count": 14,
   "metadata": {},
   "outputs": [
    {
     "data": {
      "text/plain": [
       "True"
      ]
     },
     "execution_count": 14,
     "metadata": {},
     "output_type": "execute_result"
    }
   ],
   "source": [
    "len(data) == len(item_property_df)"
   ]
  },
  {
   "cell_type": "code",
   "execution_count": 15,
   "metadata": {
    "collapsed": true
   },
   "outputs": [],
   "source": [
    "#data = pd.concat([data, item_property_df], axis=1)"
   ]
  },
  {
   "cell_type": "code",
   "execution_count": 16,
   "metadata": {},
   "outputs": [
    {
     "data": {
      "text/plain": [
       "2075"
      ]
     },
     "execution_count": 16,
     "metadata": {},
     "output_type": "execute_result"
    }
   ],
   "source": [
    "len(data.item_brand_id.unique())"
   ]
  },
  {
   "cell_type": "code",
   "execution_count": 17,
   "metadata": {},
   "outputs": [
    {
     "data": {
      "text/plain": [
       "128"
      ]
     },
     "execution_count": 17,
     "metadata": {},
     "output_type": "execute_result"
    }
   ],
   "source": [
    "len(data.item_city_id.unique())"
   ]
  },
  {
   "cell_type": "code",
   "execution_count": 18,
   "metadata": {},
   "outputs": [
    {
     "data": {
      "text/plain": [
       "Index(['instance_id', 'item_id', 'item_category_list', 'item_property_list',\n",
       "       'item_brand_id', 'item_city_id', 'item_price_level', 'item_sales_level',\n",
       "       'item_collected_level', 'item_pv_level', 'user_id', 'user_gender_id',\n",
       "       'user_age_level', 'user_occupation_id', 'user_star_level', 'context_id',\n",
       "       'context_timestamp', 'context_page_id', 'predict_category_property',\n",
       "       'shop_id', 'shop_review_num_level', 'shop_review_positive_rate',\n",
       "       'shop_star_level', 'shop_score_service', 'shop_score_delivery',\n",
       "       'shop_score_description', 'is_trade', 'time', 'day', 'hour',\n",
       "       'history_ctr'],\n",
       "      dtype='object')"
      ]
     },
     "execution_count": 18,
     "metadata": {},
     "output_type": "execute_result"
    }
   ],
   "source": [
    "columns = data.columns\n",
    "columns"
   ]
  },
  {
   "cell_type": "code",
   "execution_count": 19,
   "metadata": {},
   "outputs": [
    {
     "data": {
      "text/plain": [
       "array([4006, 4001, 4016, 4003, 4010, 4005, 4020, 4014, 4007, 4002, 4004,\n",
       "       4015, 4011, 4012, 4009, 4018, 4008, 4017, 4013, 4019], dtype=int64)"
      ]
     },
     "execution_count": 19,
     "metadata": {},
     "output_type": "execute_result"
    }
   ],
   "source": [
    "data.context_page_id.unique()"
   ]
  },
  {
   "cell_type": "code",
   "execution_count": 20,
   "metadata": {
    "collapsed": true
   },
   "outputs": [],
   "source": [
    "other_features = ['instance_id', 'item_id', 'shop_id', 'day', 'shop_review_positive_rate', 'shop_score_service', \n",
    "                  'shop_score_delivery', 'shop_score_description', 'history_ctr']\n",
    "#'item_property_0', 'item_property_1',\n",
    "#                        'item_property_2', 'item_property_3', 'item_property_4',\n",
    "#  ,'item_brand_id'\n",
    "categorical_features = ['item_category_list', 'item_city_id',\n",
    "                        'item_price_level', 'item_sales_level', \n",
    "                        'item_collected_level',  'item_pv_level', 'user_gender_id', 'user_age_level', \n",
    "                        'user_occupation_id', 'user_star_level', 'hour', 'context_page_id', \n",
    "                        'shop_review_num_level', 'shop_star_level', ]"
   ]
  },
  {
   "cell_type": "code",
   "execution_count": 21,
   "metadata": {
    "collapsed": true
   },
   "outputs": [],
   "source": [
    "new_data = data[other_features]"
   ]
  },
  {
   "cell_type": "code",
   "execution_count": 22,
   "metadata": {},
   "outputs": [
    {
     "name": "stdout",
     "output_type": "stream",
     "text": [
      "item_category_list  finished!\n",
      "item_city_id  finished!\n",
      "item_price_level  finished!\n",
      "item_sales_level  finished!\n",
      "item_collected_level  finished!\n",
      "item_pv_level  finished!\n",
      "user_gender_id  finished!\n",
      "user_age_level  finished!\n",
      "user_occupation_id  finished!\n",
      "user_star_level  finished!\n",
      "hour  finished!\n",
      "context_page_id  finished!\n",
      "shop_review_num_level  finished!\n",
      "shop_star_level  finished!\n"
     ]
    }
   ],
   "source": [
    "for feat in categorical_features:\n",
    "    categorical_data = data[feat].astype('str')\n",
    "    categorical_data = pd.get_dummies(categorical_data, dummy_na=True, prefix=feat)\n",
    "    new_data = pd.concat([new_data, categorical_data], axis=1)\n",
    "    print(feat, ' finished!')"
   ]
  },
  {
   "cell_type": "code",
   "execution_count": 23,
   "metadata": {},
   "outputs": [
    {
     "data": {
      "text/html": [
       "<div>\n",
       "<style>\n",
       "    .dataframe thead tr:only-child th {\n",
       "        text-align: right;\n",
       "    }\n",
       "\n",
       "    .dataframe thead th {\n",
       "        text-align: left;\n",
       "    }\n",
       "\n",
       "    .dataframe tbody tr th {\n",
       "        vertical-align: top;\n",
       "    }\n",
       "</style>\n",
       "<table border=\"1\" class=\"dataframe\">\n",
       "  <thead>\n",
       "    <tr style=\"text-align: right;\">\n",
       "      <th></th>\n",
       "      <th>instance_id</th>\n",
       "      <th>item_id</th>\n",
       "      <th>shop_id</th>\n",
       "      <th>day</th>\n",
       "      <th>shop_review_positive_rate</th>\n",
       "      <th>shop_score_service</th>\n",
       "      <th>shop_score_delivery</th>\n",
       "      <th>shop_score_description</th>\n",
       "      <th>history_ctr</th>\n",
       "      <th>item_category_list_1968056100269760729</th>\n",
       "      <th>...</th>\n",
       "      <th>shop_star_level_5012</th>\n",
       "      <th>shop_star_level_5013</th>\n",
       "      <th>shop_star_level_5014</th>\n",
       "      <th>shop_star_level_5015</th>\n",
       "      <th>shop_star_level_5016</th>\n",
       "      <th>shop_star_level_5017</th>\n",
       "      <th>shop_star_level_5018</th>\n",
       "      <th>shop_star_level_5019</th>\n",
       "      <th>shop_star_level_5020</th>\n",
       "      <th>shop_star_level_nan</th>\n",
       "    </tr>\n",
       "  </thead>\n",
       "  <tbody>\n",
       "    <tr>\n",
       "      <th>0</th>\n",
       "      <td>108641074714126964</td>\n",
       "      <td>3412720377098676069</td>\n",
       "      <td>6765930309048922341</td>\n",
       "      <td>18</td>\n",
       "      <td>1.0</td>\n",
       "      <td>1.0</td>\n",
       "      <td>1.0</td>\n",
       "      <td>1.0</td>\n",
       "      <td>0.0</td>\n",
       "      <td>0</td>\n",
       "      <td>...</td>\n",
       "      <td>0</td>\n",
       "      <td>0</td>\n",
       "      <td>0</td>\n",
       "      <td>0</td>\n",
       "      <td>0</td>\n",
       "      <td>0</td>\n",
       "      <td>0</td>\n",
       "      <td>0</td>\n",
       "      <td>0</td>\n",
       "      <td>0</td>\n",
       "    </tr>\n",
       "    <tr>\n",
       "      <th>1</th>\n",
       "      <td>5754713551599725161</td>\n",
       "      <td>3412720377098676069</td>\n",
       "      <td>6765930309048922341</td>\n",
       "      <td>18</td>\n",
       "      <td>1.0</td>\n",
       "      <td>1.0</td>\n",
       "      <td>1.0</td>\n",
       "      <td>1.0</td>\n",
       "      <td>0.0</td>\n",
       "      <td>0</td>\n",
       "      <td>...</td>\n",
       "      <td>0</td>\n",
       "      <td>0</td>\n",
       "      <td>0</td>\n",
       "      <td>0</td>\n",
       "      <td>0</td>\n",
       "      <td>0</td>\n",
       "      <td>0</td>\n",
       "      <td>0</td>\n",
       "      <td>0</td>\n",
       "      <td>0</td>\n",
       "    </tr>\n",
       "    <tr>\n",
       "      <th>2</th>\n",
       "      <td>842679481291040981</td>\n",
       "      <td>3412720377098676069</td>\n",
       "      <td>6765930309048922341</td>\n",
       "      <td>18</td>\n",
       "      <td>1.0</td>\n",
       "      <td>1.0</td>\n",
       "      <td>1.0</td>\n",
       "      <td>1.0</td>\n",
       "      <td>0.0</td>\n",
       "      <td>0</td>\n",
       "      <td>...</td>\n",
       "      <td>0</td>\n",
       "      <td>0</td>\n",
       "      <td>0</td>\n",
       "      <td>0</td>\n",
       "      <td>0</td>\n",
       "      <td>0</td>\n",
       "      <td>0</td>\n",
       "      <td>0</td>\n",
       "      <td>0</td>\n",
       "      <td>0</td>\n",
       "    </tr>\n",
       "    <tr>\n",
       "      <th>3</th>\n",
       "      <td>937088850059189027</td>\n",
       "      <td>3412720377098676069</td>\n",
       "      <td>6765930309048922341</td>\n",
       "      <td>18</td>\n",
       "      <td>1.0</td>\n",
       "      <td>1.0</td>\n",
       "      <td>1.0</td>\n",
       "      <td>1.0</td>\n",
       "      <td>0.0</td>\n",
       "      <td>0</td>\n",
       "      <td>...</td>\n",
       "      <td>0</td>\n",
       "      <td>0</td>\n",
       "      <td>0</td>\n",
       "      <td>0</td>\n",
       "      <td>0</td>\n",
       "      <td>0</td>\n",
       "      <td>0</td>\n",
       "      <td>0</td>\n",
       "      <td>0</td>\n",
       "      <td>0</td>\n",
       "    </tr>\n",
       "    <tr>\n",
       "      <th>4</th>\n",
       "      <td>7975697065017708072</td>\n",
       "      <td>3412720377098676069</td>\n",
       "      <td>6765930309048922341</td>\n",
       "      <td>18</td>\n",
       "      <td>1.0</td>\n",
       "      <td>1.0</td>\n",
       "      <td>1.0</td>\n",
       "      <td>1.0</td>\n",
       "      <td>0.0</td>\n",
       "      <td>0</td>\n",
       "      <td>...</td>\n",
       "      <td>0</td>\n",
       "      <td>0</td>\n",
       "      <td>0</td>\n",
       "      <td>0</td>\n",
       "      <td>0</td>\n",
       "      <td>0</td>\n",
       "      <td>0</td>\n",
       "      <td>0</td>\n",
       "      <td>0</td>\n",
       "      <td>0</td>\n",
       "    </tr>\n",
       "  </tbody>\n",
       "</table>\n",
       "<p>5 rows × 357 columns</p>\n",
       "</div>"
      ],
      "text/plain": [
       "           instance_id              item_id              shop_id  day  \\\n",
       "0   108641074714126964  3412720377098676069  6765930309048922341   18   \n",
       "1  5754713551599725161  3412720377098676069  6765930309048922341   18   \n",
       "2   842679481291040981  3412720377098676069  6765930309048922341   18   \n",
       "3   937088850059189027  3412720377098676069  6765930309048922341   18   \n",
       "4  7975697065017708072  3412720377098676069  6765930309048922341   18   \n",
       "\n",
       "   shop_review_positive_rate  shop_score_service  shop_score_delivery  \\\n",
       "0                        1.0                 1.0                  1.0   \n",
       "1                        1.0                 1.0                  1.0   \n",
       "2                        1.0                 1.0                  1.0   \n",
       "3                        1.0                 1.0                  1.0   \n",
       "4                        1.0                 1.0                  1.0   \n",
       "\n",
       "   shop_score_description  history_ctr  \\\n",
       "0                     1.0          0.0   \n",
       "1                     1.0          0.0   \n",
       "2                     1.0          0.0   \n",
       "3                     1.0          0.0   \n",
       "4                     1.0          0.0   \n",
       "\n",
       "   item_category_list_1968056100269760729         ...           \\\n",
       "0                                       0         ...            \n",
       "1                                       0         ...            \n",
       "2                                       0         ...            \n",
       "3                                       0         ...            \n",
       "4                                       0         ...            \n",
       "\n",
       "   shop_star_level_5012  shop_star_level_5013  shop_star_level_5014  \\\n",
       "0                     0                     0                     0   \n",
       "1                     0                     0                     0   \n",
       "2                     0                     0                     0   \n",
       "3                     0                     0                     0   \n",
       "4                     0                     0                     0   \n",
       "\n",
       "   shop_star_level_5015  shop_star_level_5016  shop_star_level_5017  \\\n",
       "0                     0                     0                     0   \n",
       "1                     0                     0                     0   \n",
       "2                     0                     0                     0   \n",
       "3                     0                     0                     0   \n",
       "4                     0                     0                     0   \n",
       "\n",
       "   shop_star_level_5018  shop_star_level_5019  shop_star_level_5020  \\\n",
       "0                     0                     0                     0   \n",
       "1                     0                     0                     0   \n",
       "2                     0                     0                     0   \n",
       "3                     0                     0                     0   \n",
       "4                     0                     0                     0   \n",
       "\n",
       "   shop_star_level_nan  \n",
       "0                    0  \n",
       "1                    0  \n",
       "2                    0  \n",
       "3                    0  \n",
       "4                    0  \n",
       "\n",
       "[5 rows x 357 columns]"
      ]
     },
     "execution_count": 23,
     "metadata": {},
     "output_type": "execute_result"
    }
   ],
   "source": [
    "new_data.head()"
   ]
  },
  {
   "cell_type": "code",
   "execution_count": 24,
   "metadata": {
    "scrolled": true
   },
   "outputs": [
    {
     "data": {
      "text/plain": [
       "496482"
      ]
     },
     "execution_count": 24,
     "metadata": {},
     "output_type": "execute_result"
    }
   ],
   "source": [
    "len(new_data)"
   ]
  },
  {
   "cell_type": "code",
   "execution_count": 25,
   "metadata": {},
   "outputs": [
    {
     "data": {
      "text/plain": [
       "496482"
      ]
     },
     "execution_count": 25,
     "metadata": {},
     "output_type": "execute_result"
    }
   ],
   "source": [
    "len(data)"
   ]
  },
  {
   "cell_type": "code",
   "execution_count": 26,
   "metadata": {
    "collapsed": true
   },
   "outputs": [],
   "source": [
    "new_data['is_trade'] = data['is_trade']"
   ]
  },
  {
   "cell_type": "code",
   "execution_count": 27,
   "metadata": {},
   "outputs": [
    {
     "name": "stdout",
     "output_type": "stream",
     "text": [
      "<class 'pandas.core.frame.DataFrame'>\n",
      "Int64Index: 496482 entries, 0 to 496481\n",
      "Columns: 358 entries, instance_id to is_trade\n",
      "dtypes: float64(6), int64(4), uint8(348)\n",
      "memory usage: 206.4 MB\n"
     ]
    }
   ],
   "source": [
    "new_data.info()"
   ]
  },
  {
   "cell_type": "code",
   "execution_count": 28,
   "metadata": {
    "collapsed": true
   },
   "outputs": [],
   "source": [
    "#new_data.to_csv('./feature_data/new_data_0412__.txt', sep=' ', encoding='utf-8', index=False)"
   ]
  },
  {
   "cell_type": "markdown",
   "metadata": {},
   "source": [
    "## Data"
   ]
  },
  {
   "cell_type": "code",
   "execution_count": 29,
   "metadata": {},
   "outputs": [
    {
     "data": {
      "text/plain": [
       "(496482, 358)"
      ]
     },
     "execution_count": 29,
     "metadata": {},
     "output_type": "execute_result"
    }
   ],
   "source": [
    "new_data.shape"
   ]
  },
  {
   "cell_type": "code",
   "execution_count": 30,
   "metadata": {},
   "outputs": [
    {
     "data": {
      "text/plain": [
       "Index(['instance_id', 'item_id', 'shop_id', 'day', 'shop_review_positive_rate',\n",
       "       'shop_score_service', 'shop_score_delivery', 'shop_score_description',\n",
       "       'history_ctr', 'item_category_list_1968056100269760729',\n",
       "       ...\n",
       "       'shop_star_level_5013', 'shop_star_level_5014', 'shop_star_level_5015',\n",
       "       'shop_star_level_5016', 'shop_star_level_5017', 'shop_star_level_5018',\n",
       "       'shop_star_level_5019', 'shop_star_level_5020', 'shop_star_level_nan',\n",
       "       'is_trade'],\n",
       "      dtype='object', length=358)"
      ]
     },
     "execution_count": 30,
     "metadata": {},
     "output_type": "execute_result"
    }
   ],
   "source": [
    "new_data.columns"
   ]
  },
  {
   "cell_type": "code",
   "execution_count": 31,
   "metadata": {
    "collapsed": true
   },
   "outputs": [],
   "source": [
    "train = new_data[new_data.day < 24]\n",
    "test = new_data[new_data.day == 24]\n",
    "all_train = new_data[new_data.day <25]\n",
    "predict = new_data[new_data.day == 25]"
   ]
  },
  {
   "cell_type": "code",
   "execution_count": 32,
   "metadata": {},
   "outputs": [
    {
     "data": {
      "text/html": [
       "<div>\n",
       "<style>\n",
       "    .dataframe thead tr:only-child th {\n",
       "        text-align: right;\n",
       "    }\n",
       "\n",
       "    .dataframe thead th {\n",
       "        text-align: left;\n",
       "    }\n",
       "\n",
       "    .dataframe tbody tr th {\n",
       "        vertical-align: top;\n",
       "    }\n",
       "</style>\n",
       "<table border=\"1\" class=\"dataframe\">\n",
       "  <thead>\n",
       "    <tr style=\"text-align: right;\">\n",
       "      <th></th>\n",
       "      <th>instance_id</th>\n",
       "      <th>item_id</th>\n",
       "      <th>shop_id</th>\n",
       "      <th>day</th>\n",
       "      <th>shop_review_positive_rate</th>\n",
       "      <th>shop_score_service</th>\n",
       "      <th>shop_score_delivery</th>\n",
       "      <th>shop_score_description</th>\n",
       "      <th>history_ctr</th>\n",
       "      <th>item_category_list_1968056100269760729</th>\n",
       "      <th>...</th>\n",
       "      <th>shop_star_level_5013</th>\n",
       "      <th>shop_star_level_5014</th>\n",
       "      <th>shop_star_level_5015</th>\n",
       "      <th>shop_star_level_5016</th>\n",
       "      <th>shop_star_level_5017</th>\n",
       "      <th>shop_star_level_5018</th>\n",
       "      <th>shop_star_level_5019</th>\n",
       "      <th>shop_star_level_5020</th>\n",
       "      <th>shop_star_level_nan</th>\n",
       "      <th>is_trade</th>\n",
       "    </tr>\n",
       "  </thead>\n",
       "  <tbody>\n",
       "    <tr>\n",
       "      <th>420693</th>\n",
       "      <td>2137051386648397465</td>\n",
       "      <td>3417228998968466891</td>\n",
       "      <td>3011322251466986596</td>\n",
       "      <td>24</td>\n",
       "      <td>0.981128</td>\n",
       "      <td>0.974508</td>\n",
       "      <td>0.977220</td>\n",
       "      <td>0.966373</td>\n",
       "      <td>0.000000</td>\n",
       "      <td>0</td>\n",
       "      <td>...</td>\n",
       "      <td>0</td>\n",
       "      <td>0</td>\n",
       "      <td>0</td>\n",
       "      <td>0</td>\n",
       "      <td>0</td>\n",
       "      <td>0</td>\n",
       "      <td>0</td>\n",
       "      <td>0</td>\n",
       "      <td>0</td>\n",
       "      <td>0.0</td>\n",
       "    </tr>\n",
       "    <tr>\n",
       "      <th>420694</th>\n",
       "      <td>8636603765413923862</td>\n",
       "      <td>3417228998968466891</td>\n",
       "      <td>3011322251466986596</td>\n",
       "      <td>24</td>\n",
       "      <td>0.981128</td>\n",
       "      <td>0.974508</td>\n",
       "      <td>0.977220</td>\n",
       "      <td>0.966373</td>\n",
       "      <td>0.000000</td>\n",
       "      <td>0</td>\n",
       "      <td>...</td>\n",
       "      <td>0</td>\n",
       "      <td>0</td>\n",
       "      <td>0</td>\n",
       "      <td>0</td>\n",
       "      <td>0</td>\n",
       "      <td>0</td>\n",
       "      <td>0</td>\n",
       "      <td>0</td>\n",
       "      <td>0</td>\n",
       "      <td>0.0</td>\n",
       "    </tr>\n",
       "    <tr>\n",
       "      <th>420695</th>\n",
       "      <td>345383580586199930</td>\n",
       "      <td>932459418921071956</td>\n",
       "      <td>6244933171089048032</td>\n",
       "      <td>24</td>\n",
       "      <td>1.000000</td>\n",
       "      <td>0.962925</td>\n",
       "      <td>0.960578</td>\n",
       "      <td>0.983604</td>\n",
       "      <td>0.025822</td>\n",
       "      <td>0</td>\n",
       "      <td>...</td>\n",
       "      <td>0</td>\n",
       "      <td>1</td>\n",
       "      <td>0</td>\n",
       "      <td>0</td>\n",
       "      <td>0</td>\n",
       "      <td>0</td>\n",
       "      <td>0</td>\n",
       "      <td>0</td>\n",
       "      <td>0</td>\n",
       "      <td>0.0</td>\n",
       "    </tr>\n",
       "    <tr>\n",
       "      <th>420696</th>\n",
       "      <td>8731890116021855314</td>\n",
       "      <td>932459418921071956</td>\n",
       "      <td>6244933171089048032</td>\n",
       "      <td>24</td>\n",
       "      <td>1.000000</td>\n",
       "      <td>0.962925</td>\n",
       "      <td>0.960578</td>\n",
       "      <td>0.983604</td>\n",
       "      <td>0.025822</td>\n",
       "      <td>0</td>\n",
       "      <td>...</td>\n",
       "      <td>0</td>\n",
       "      <td>1</td>\n",
       "      <td>0</td>\n",
       "      <td>0</td>\n",
       "      <td>0</td>\n",
       "      <td>0</td>\n",
       "      <td>0</td>\n",
       "      <td>0</td>\n",
       "      <td>0</td>\n",
       "      <td>0.0</td>\n",
       "    </tr>\n",
       "    <tr>\n",
       "      <th>420697</th>\n",
       "      <td>4313209774350468112</td>\n",
       "      <td>932459418921071956</td>\n",
       "      <td>6244933171089048032</td>\n",
       "      <td>24</td>\n",
       "      <td>1.000000</td>\n",
       "      <td>0.962925</td>\n",
       "      <td>0.960578</td>\n",
       "      <td>0.983604</td>\n",
       "      <td>0.025822</td>\n",
       "      <td>0</td>\n",
       "      <td>...</td>\n",
       "      <td>0</td>\n",
       "      <td>1</td>\n",
       "      <td>0</td>\n",
       "      <td>0</td>\n",
       "      <td>0</td>\n",
       "      <td>0</td>\n",
       "      <td>0</td>\n",
       "      <td>0</td>\n",
       "      <td>0</td>\n",
       "      <td>0.0</td>\n",
       "    </tr>\n",
       "  </tbody>\n",
       "</table>\n",
       "<p>5 rows × 358 columns</p>\n",
       "</div>"
      ],
      "text/plain": [
       "                instance_id              item_id              shop_id  day  \\\n",
       "420693  2137051386648397465  3417228998968466891  3011322251466986596   24   \n",
       "420694  8636603765413923862  3417228998968466891  3011322251466986596   24   \n",
       "420695   345383580586199930   932459418921071956  6244933171089048032   24   \n",
       "420696  8731890116021855314   932459418921071956  6244933171089048032   24   \n",
       "420697  4313209774350468112   932459418921071956  6244933171089048032   24   \n",
       "\n",
       "        shop_review_positive_rate  shop_score_service  shop_score_delivery  \\\n",
       "420693                   0.981128            0.974508             0.977220   \n",
       "420694                   0.981128            0.974508             0.977220   \n",
       "420695                   1.000000            0.962925             0.960578   \n",
       "420696                   1.000000            0.962925             0.960578   \n",
       "420697                   1.000000            0.962925             0.960578   \n",
       "\n",
       "        shop_score_description  history_ctr  \\\n",
       "420693                0.966373     0.000000   \n",
       "420694                0.966373     0.000000   \n",
       "420695                0.983604     0.025822   \n",
       "420696                0.983604     0.025822   \n",
       "420697                0.983604     0.025822   \n",
       "\n",
       "        item_category_list_1968056100269760729    ...     \\\n",
       "420693                                       0    ...      \n",
       "420694                                       0    ...      \n",
       "420695                                       0    ...      \n",
       "420696                                       0    ...      \n",
       "420697                                       0    ...      \n",
       "\n",
       "        shop_star_level_5013  shop_star_level_5014  shop_star_level_5015  \\\n",
       "420693                     0                     0                     0   \n",
       "420694                     0                     0                     0   \n",
       "420695                     0                     1                     0   \n",
       "420696                     0                     1                     0   \n",
       "420697                     0                     1                     0   \n",
       "\n",
       "        shop_star_level_5016  shop_star_level_5017  shop_star_level_5018  \\\n",
       "420693                     0                     0                     0   \n",
       "420694                     0                     0                     0   \n",
       "420695                     0                     0                     0   \n",
       "420696                     0                     0                     0   \n",
       "420697                     0                     0                     0   \n",
       "\n",
       "        shop_star_level_5019  shop_star_level_5020  shop_star_level_nan  \\\n",
       "420693                     0                     0                    0   \n",
       "420694                     0                     0                    0   \n",
       "420695                     0                     0                    0   \n",
       "420696                     0                     0                    0   \n",
       "420697                     0                     0                    0   \n",
       "\n",
       "        is_trade  \n",
       "420693       0.0  \n",
       "420694       0.0  \n",
       "420695       0.0  \n",
       "420696       0.0  \n",
       "420697       0.0  \n",
       "\n",
       "[5 rows x 358 columns]"
      ]
     },
     "execution_count": 32,
     "metadata": {},
     "output_type": "execute_result"
    }
   ],
   "source": [
    "test.head()"
   ]
  },
  {
   "cell_type": "code",
   "execution_count": 33,
   "metadata": {},
   "outputs": [
    {
     "name": "stderr",
     "output_type": "stream",
     "text": [
      "D:\\Anaconda3\\lib\\site-packages\\sklearn\\cross_validation.py:41: DeprecationWarning: This module was deprecated in version 0.18 in favor of the model_selection module into which all the refactored classes and functions are moved. Also note that the interface of the new CV iterators are different from that of this module. This module will be removed in 0.20.\n",
      "  \"This module will be removed in 0.20.\", DeprecationWarning)\n"
     ]
    }
   ],
   "source": [
    "from sklearn.metrics import log_loss\n",
    "from sklearn.cross_validation import train_test_split\n",
    "from sklearn.linear_model import LogisticRegression"
   ]
  },
  {
   "cell_type": "code",
   "execution_count": 34,
   "metadata": {
    "collapsed": true
   },
   "outputs": [],
   "source": [
    "features = []\n",
    "target = 'is_trade'\n",
    "for feat in train.columns:\n",
    "    if feat not in ['instance_id', 'item_id', 'shop_id', 'day', 'is_trade']:\n",
    "        features.append(feat)"
   ]
  },
  {
   "cell_type": "code",
   "execution_count": 35,
   "metadata": {},
   "outputs": [
    {
     "data": {
      "text/plain": [
       "420693"
      ]
     },
     "execution_count": 35,
     "metadata": {},
     "output_type": "execute_result"
    }
   ],
   "source": [
    "len(train)"
   ]
  },
  {
   "cell_type": "code",
   "execution_count": 36,
   "metadata": {},
   "outputs": [
    {
     "name": "stdout",
     "output_type": "stream",
     "text": [
      "0.08101573523204039\n"
     ]
    },
    {
     "name": "stderr",
     "output_type": "stream",
     "text": [
      "D:\\Anaconda3\\lib\\site-packages\\ipykernel_launcher.py:3: SettingWithCopyWarning: \n",
      "A value is trying to be set on a copy of a slice from a DataFrame.\n",
      "Try using .loc[row_indexer,col_indexer] = value instead\n",
      "\n",
      "See the caveats in the documentation: http://pandas.pydata.org/pandas-docs/stable/indexing.html#indexing-view-versus-copy\n",
      "  This is separate from the ipykernel package so we can avoid doing imports until\n"
     ]
    }
   ],
   "source": [
    "clf = LogisticRegression(penalty='l1')\n",
    "clf.fit(train[features], train[target])\n",
    "test['predicted_score'] = clf.predict_proba(test[features],)[:, 1]\n",
    "print(log_loss(test[target], test['predicted_score']))  # 0.08209604257681523  0.08155333572147315 0.08101538254488101"
   ]
  },
  {
   "cell_type": "code",
   "execution_count": 37,
   "metadata": {
    "collapsed": true
   },
   "outputs": [],
   "source": [
    "#df_train.to_csv('./data/df_train.csv', encoding='utf-8', index=False)"
   ]
  },
  {
   "cell_type": "code",
   "execution_count": 38,
   "metadata": {},
   "outputs": [
    {
     "name": "stderr",
     "output_type": "stream",
     "text": [
      "D:\\Anaconda3\\lib\\site-packages\\ipykernel_launcher.py:2: SettingWithCopyWarning: \n",
      "A value is trying to be set on a copy of a slice from a DataFrame.\n",
      "Try using .loc[row_indexer,col_indexer] = value instead\n",
      "\n",
      "See the caveats in the documentation: http://pandas.pydata.org/pandas-docs/stable/indexing.html#indexing-view-versus-copy\n",
      "  \n"
     ]
    }
   ],
   "source": [
    "clf.fit(all_train[features], all_train[target])\n",
    "predict['predicted_score'] = clf.predict_proba(predict[features])[:, 1]\n",
    "predict[['instance_id', 'predicted_score']].to_csv('result4_13.csv', index=False,sep=' ')"
   ]
  },
  {
   "cell_type": "code",
   "execution_count": 39,
   "metadata": {},
   "outputs": [
    {
     "data": {
      "text/plain": [
       "424526    0.522402\n",
       "424520    0.517349\n",
       "467375    0.475316\n",
       "424513    0.459833\n",
       "467340    0.457995\n",
       "424522    0.451904\n",
       "424533    0.448447\n",
       "467354    0.411257\n",
       "467372    0.405989\n",
       "424519    0.403224\n",
       "424524    0.398789\n",
       "467355    0.394073\n",
       "424532    0.391327\n",
       "424534    0.390335\n",
       "424517    0.387762\n",
       "424523    0.380598\n",
       "424525    0.376557\n",
       "424521    0.372563\n",
       "424518    0.365309\n",
       "424516    0.362662\n",
       "424514    0.353896\n",
       "467346    0.350967\n",
       "467374    0.346296\n",
       "424535    0.342942\n",
       "467344    0.342471\n",
       "467360    0.337325\n",
       "422642    0.334112\n",
       "424531    0.332849\n",
       "424536    0.328914\n",
       "467366    0.328598\n",
       "            ...   \n",
       "473883    0.001443\n",
       "435884    0.001439\n",
       "422478    0.001430\n",
       "477588    0.001421\n",
       "453623    0.001418\n",
       "455173    0.001412\n",
       "447066    0.001412\n",
       "430035    0.001409\n",
       "425074    0.001397\n",
       "475070    0.001390\n",
       "450251    0.001385\n",
       "446984    0.001372\n",
       "472137    0.001367\n",
       "476365    0.001332\n",
       "467618    0.001300\n",
       "458237    0.001264\n",
       "470372    0.001197\n",
       "466213    0.001157\n",
       "466561    0.001149\n",
       "442325    0.001133\n",
       "425075    0.001123\n",
       "432813    0.001102\n",
       "452058    0.001078\n",
       "475872    0.001050\n",
       "442346    0.001001\n",
       "456604    0.000997\n",
       "425069    0.000967\n",
       "456605    0.000940\n",
       "452734    0.000922\n",
       "462928    0.000768\n",
       "Name: predicted_score, Length: 57418, dtype: float64"
      ]
     },
     "execution_count": 39,
     "metadata": {},
     "output_type": "execute_result"
    }
   ],
   "source": [
    "test['predicted_score'].sort_values(ascending=False)"
   ]
  },
  {
   "cell_type": "code",
   "execution_count": 40,
   "metadata": {},
   "outputs": [
    {
     "data": {
      "text/plain": [
       "482650    0.445052\n",
       "492751    0.426743\n",
       "492747    0.426569\n",
       "482646    0.405096\n",
       "492748    0.378967\n",
       "482645    0.361000\n",
       "482649    0.358835\n",
       "482651    0.349419\n",
       "492750    0.329901\n",
       "492746    0.328682\n",
       "482648    0.327199\n",
       "480580    0.292561\n",
       "480582    0.273051\n",
       "480585    0.264565\n",
       "480584    0.247102\n",
       "490082    0.241640\n",
       "480587    0.238029\n",
       "490083    0.237976\n",
       "490076    0.230525\n",
       "480586    0.215666\n",
       "494749    0.211532\n",
       "491179    0.198725\n",
       "480581    0.196385\n",
       "493366    0.187227\n",
       "490081    0.184684\n",
       "480062    0.181478\n",
       "493365    0.180330\n",
       "494750    0.178608\n",
       "480542    0.174193\n",
       "490079    0.173962\n",
       "            ...   \n",
       "478394    0.001967\n",
       "483061    0.001964\n",
       "491152    0.001943\n",
       "496405    0.001924\n",
       "486893    0.001917\n",
       "487945    0.001900\n",
       "478632    0.001871\n",
       "490663    0.001867\n",
       "490265    0.001843\n",
       "478630    0.001816\n",
       "492024    0.001804\n",
       "492568    0.001788\n",
       "489189    0.001761\n",
       "486925    0.001700\n",
       "481666    0.001666\n",
       "484907    0.001660\n",
       "486801    0.001650\n",
       "490665    0.001647\n",
       "486805    0.001603\n",
       "495671    0.001555\n",
       "480037    0.001552\n",
       "493830    0.001505\n",
       "490659    0.001458\n",
       "490662    0.001367\n",
       "486845    0.001360\n",
       "490664    0.001213\n",
       "486804    0.001036\n",
       "488067    0.000997\n",
       "488046    0.000902\n",
       "488026    0.000861\n",
       "Name: predicted_score, Length: 18371, dtype: float64"
      ]
     },
     "execution_count": 40,
     "metadata": {},
     "output_type": "execute_result"
    }
   ],
   "source": [
    "predict['predicted_score'].sort_values(ascending=False)"
   ]
  },
  {
   "cell_type": "code",
   "execution_count": null,
   "metadata": {
    "collapsed": true
   },
   "outputs": [],
   "source": []
  }
 ],
 "metadata": {
  "kernelspec": {
   "display_name": "Python 3",
   "language": "python",
   "name": "python3"
  },
  "language_info": {
   "codemirror_mode": {
    "name": "ipython",
    "version": 3
   },
   "file_extension": ".py",
   "mimetype": "text/x-python",
   "name": "python",
   "nbconvert_exporter": "python",
   "pygments_lexer": "ipython3",
   "version": "3.6.3"
  }
 },
 "nbformat": 4,
 "nbformat_minor": 2
}
