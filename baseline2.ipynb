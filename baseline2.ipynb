{
 "cells": [
  {
   "cell_type": "code",
   "execution_count": 3,
   "metadata": {},
   "outputs": [
    {
     "name": "stderr",
     "output_type": "stream",
     "text": [
      "D:\\Anaconda3\\lib\\site-packages\\sklearn\\cross_validation.py:41: DeprecationWarning: This module was deprecated in version 0.18 in favor of the model_selection module into which all the refactored classes and functions are moved. Also note that the interface of the new CV iterators are different from that of this module. This module will be removed in 0.20.\n",
      "  \"This module will be removed in 0.20.\", DeprecationWarning)\n"
     ]
    }
   ],
   "source": [
    "import time\n",
    "import datetime\n",
    "import pandas as pd\n",
    "import lightgbm as lgb\n",
    "from sklearn.metrics import log_loss\n",
    "from sklearn.cross_validation import train_test_split"
   ]
  },
  {
   "cell_type": "code",
   "execution_count": 4,
   "metadata": {
    "collapsed": true
   },
   "outputs": [],
   "source": [
    "def timestamp_datetime(value):\n",
    "    format = '%Y-%m-%d %H:%M:%S'\n",
    "    value = time.localtime(value)\n",
    "    dt = time.strftime(format, value)\n",
    "    dt = datetime.datetime.strptime(dt, format)\n",
    "    return dt"
   ]
  },
  {
   "cell_type": "code",
   "execution_count": 6,
   "metadata": {
    "collapsed": true
   },
   "outputs": [],
   "source": [
    "def convert_data(data):\n",
    "    data['time'] = data.context_timestamp.apply(timestamp_datetime)\n",
    "    data['day'] = data.time.apply(lambda x: x.day)\n",
    "    data['hour'] = data.time.apply(lambda x: x.hour)\n",
    "    user_query_day = data.groupby(['user_id', 'day']).size().reset_index().rename(columns={0: 'user_query_day'})\n",
    "    data = pd.merge(data, user_query_day, 'left', on=['user_id', 'day'])\n",
    "    user_query_day_hour = data.groupby(['user_id', 'day', 'hour']).size().reset_index()\\\n",
    "                            .rename(columns={0: 'user_query_day_hour'})\n",
    "    data = pd.merge(data, user_query_day_hour, 'left', on=['user_id', 'day', 'hour'])\n",
    "    print(data.head())\n",
    "    return data"
   ]
  },
  {
   "cell_type": "code",
   "execution_count": 8,
   "metadata": {
    "scrolled": true
   },
   "outputs": [
    {
     "ename": "SyntaxError",
     "evalue": "invalid syntax (<ipython-input-8-06d498afee71>, line 20)",
     "output_type": "error",
     "traceback": [
      "\u001b[1;36m  File \u001b[1;32m\"<ipython-input-8-06d498afee71>\"\u001b[1;36m, line \u001b[1;32m20\u001b[0m\n\u001b[1;33m    **()\u001b[0m\n\u001b[1;37m     ^\u001b[0m\n\u001b[1;31mSyntaxError\u001b[0m\u001b[1;31m:\u001b[0m invalid syntax\n"
     ]
    }
   ],
   "source": [
    "if __name__ == \"__main__\":\n",
    "    online = True# 这里用来标记是 线下验证 还是 在线提交\n",
    "\n",
    "    data = pd.read_csv('./data/round1_ijcai_18_train_20180301.txt', sep=' ')\n",
    "    data.drop_duplicates(inplace=True)\n",
    "    data = convert_data(data)\n",
    "\n",
    "    if online == False:\n",
    "#         data = data.sample(frac=1, random_state = 1)\n",
    "#         train = data[:int(len(data) * 0.9)]  \n",
    "#         test = data[int(len(data) * 0.9): ]  \n",
    "          \n",
    "        train = data.loc[data.day < 24]    # 18,19,20,21,22,23,24\n",
    "        test = data.loc[data.day == 24]    # 暂时先使用第24天作为验证集\n",
    "    elif online == True:\n",
    "        train = data.copy()\n",
    "        test = pd.read_csv('./data/round1_ijcai_18_test_a_20180301.txt', sep=' ')\n",
    "        test = convert_data(test)\n",
    "    \n",
    "#             item_id: 广告商品编号，Long类型 ;\n",
    "#             item_category_list: 广告商品的的类目列表;\n",
    "#             item_property_list: 广告商品的属性列表\n",
    "#             item_brand_id: 广告商品的品牌编号\n",
    "                \n",
    "                \n",
    "    features = ['item_id', 'item_brand_id', 'item_city_id', 'item_price_level', 'item_sales_level',\n",
    "                'item_collected_level', 'item_pv_level', 'user_gender_id', 'user_occupation_id',\n",
    "                'user_age_level', 'user_star_level', 'user_query_day', 'user_query_day_hour',\n",
    "                'context_page_id', 'hour', 'shop_id', 'shop_review_num_level', 'shop_star_level',\n",
    "                'shop_review_positive_rate', 'shop_score_service', 'shop_score_delivery', 'shop_score_description',\n",
    "                ]\n",
    "    target = ['is_trade']\n",
    "    \n",
    "    if online == False:\n",
    "        clf = lgb.LGBMClassifier(num_leaves=65, max_depth=5, n_estimators=100, n_jobs=20)\n",
    "        clf.fit(train[features], train[target], feature_name=features,\n",
    "                categorical_feature=['user_gender_id'])\n",
    "        test['lgb_predict'] = clf.predict_proba(test[features],)[:, 1]\n",
    "        print(log_loss(test[target], test['lgb_predict']))\n",
    "    else:\n",
    "        clf = lgb.LGBMClassifier(num_leaves=65, max_depth=5, n_estimators=100, n_jobs=20)\n",
    "        clf.fit(train[features], train[target],\n",
    "                categorical_feature=['user_gender_id'])\n",
    "        test['predicted_score'] = clf.predict_proba(test[features])[:, 1]\n",
    "        test[['instance_id', 'predicted_score']].to_csv('result4_5.csv', index=False,sep=' ')#保存在线提交结果"
   ]
  },
  {
   "cell_type": "code",
   "execution_count": null,
   "metadata": {
    "collapsed": true
   },
   "outputs": [],
   "source": []
  }
 ],
 "metadata": {
  "kernelspec": {
   "display_name": "Python 3",
   "language": "python",
   "name": "python3"
  },
  "language_info": {
   "codemirror_mode": {
    "name": "ipython",
    "version": 3
   },
   "file_extension": ".py",
   "mimetype": "text/x-python",
   "name": "python",
   "nbconvert_exporter": "python",
   "pygments_lexer": "ipython3",
   "version": "3.6.3"
  }
 },
 "nbformat": 4,
 "nbformat_minor": 2
}
